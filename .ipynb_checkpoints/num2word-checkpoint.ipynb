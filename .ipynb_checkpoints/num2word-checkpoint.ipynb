{
 "cells": [
  {
   "cell_type": "code",
   "execution_count": 1,
   "metadata": {
    "collapsed": false
   },
   "outputs": [],
   "source": [
    "import toolz as tz\n",
    "execfile(\"./utils.py\")"
   ]
  },
  {
   "cell_type": "markdown",
   "metadata": {},
   "source": [
    "Some resources for the project\n",
    "\n",
    " - http://www.speech.cs.cmu.edu/cgi-bin/cmudict\n",
    " - http://www.nltk.org/book/ch11.html\n",
    " - https://en.wikipedia.org/wiki/Mnemonic_major_system\n",
    " - https://github.com/rhdunn/cmudict-tools"
   ]
  },
  {
   "cell_type": "code",
   "execution_count": 2,
   "metadata": {
    "collapsed": false
   },
   "outputs": [],
   "source": [
    "def parse_mnemonic_line(line):\n",
    "    phoneme, value = line.split(\" \")\n",
    "    return (phoneme, value)\n",
    "\n",
    "mnemonic_map = tz.thread_last(\n",
    "    \"./mnemonics.txt\",\n",
    "    read_lines,\n",
    "    (map, parse_mnemonic_line),\n",
    "    dict\n",
    ")\n",
    "\n",
    "mnemonic_phonemes = mnemonic_map.keys()\n",
    "illegal_phonemes = [phoneme for phoneme, value in mnemonic_map.items() if value == \"X\"]\n",
    "legal_phonemes = [phoneme for phoneme, value in mnemonic_map.items() if value != \"X\"]"
   ]
  },
  {
   "cell_type": "code",
   "execution_count": 3,
   "metadata": {
    "collapsed": false
   },
   "outputs": [],
   "source": [
    "def parse_cmu_line(line):\n",
    "    chunks = line.split()\n",
    "    word = strip_suffix(chunks[0], [\"(1)\", \"(2)\", \"(3)\", \"(4)\"])\n",
    "    drop_numbers = lambda string: \"\".join([char for char in string if char not in \"0123456789\"])\n",
    "    is_consonant = lambda phoneme: phoneme in mnemonic_phonemes\n",
    "    \n",
    "    all_phonemes = map(drop_numbers, chunks[1:]) # emphasis annotations aren't needed here\n",
    "    phonemes = filter(is_consonant, all_phonemes) # vowels aren't part of the mnemonic\n",
    "    numbers = [mnemonic_map[phoneme] for phoneme in phonemes]\n",
    "    \n",
    "    if (nvenn(phonemes, illegal_phonemes)[1] > 0) or (nvenn(phonemes, legal_phonemes)[1] < 1):\n",
    "        return [] # ignore words with illegal phonemes, or which contain no allowed phonemes\n",
    "    else: \n",
    "        return [{\"word\": word, \"phonemes\": phonemes, \"all_phonemes\": all_phonemes, \"numbers\": numbers}]\n",
    "    \n",
    "cmu = tz.thread_last(\n",
    "    './cmudict.txt',\n",
    "    read_file,\n",
    "    split_lines,\n",
    "    (filter, lambda line: not line.startswith(\";;;\")),\n",
    "    (tz.mapcat, parse_cmu_line),\n",
    "    list\n",
    ")"
   ]
  },
  {
   "cell_type": "code",
   "execution_count": 4,
   "metadata": {
    "collapsed": true
   },
   "outputs": [],
   "source": [
    "def search_words(f): \n",
    "    return [entry for entry in cmu if f(entry['word'])]\n",
    "\n",
    "def search_numbers(f): \n",
    "    return [entry['word'] for entry in cmu if f(entry['numbers'])]\n",
    "\n",
    "def search_phonemes(f): \n",
    "    return [entry for entry in cmu if f(entry['phonemes'])]"
   ]
  },
  {
   "cell_type": "code",
   "execution_count": 5,
   "metadata": {
    "collapsed": false
   },
   "outputs": [],
   "source": [
    "def partition(n, seq):\n",
    "    if len(seq) <= n:\n",
    "        return [seq]\n",
    "    else: \n",
    "        return [seq[:n]] + partition(n, seq[n:])\n",
    "    \n",
    "def translate(numbers):\n",
    "    return tz.thread_last(\n",
    "        numbers, \n",
    "        str,\n",
    "        list,\n",
    "        (partition, 3),\n",
    "        (map, lambda query_numbers: search_numbers(lambda numbers: numbers == query_numbers)),\n",
    "        list\n",
    "    )"
   ]
  },
  {
   "cell_type": "markdown",
   "metadata": {},
   "source": [
    "# Test it out!\n",
    "Try converting some numbers into words"
   ]
  },
  {
   "cell_type": "code",
   "execution_count": 6,
   "metadata": {
    "collapsed": false,
    "scrolled": true
   },
   "outputs": [
    {
     "data": {
      "text/plain": [
       "[['AUTONOMY',\n",
       "  'AUTONOMY',\n",
       "  'DENHAM',\n",
       "  'DENIM',\n",
       "  'DENOMME',\n",
       "  'DONHAM',\n",
       "  'DOWNHAM',\n",
       "  'DOWNUM',\n",
       "  'DUNHAM',\n",
       "  'DUNNAM',\n",
       "  'DYNAMO',\n",
       "  'IDEONOMY']]"
      ]
     },
     "execution_count": 6,
     "metadata": {},
     "output_type": "execute_result"
    }
   ],
   "source": [
    "translate(123)"
   ]
  },
  {
   "cell_type": "code",
   "execution_count": 7,
   "metadata": {
    "collapsed": false
   },
   "outputs": [
    {
     "data": {
      "text/plain": [
       "[['ALARM', 'LARAMEE', 'LARAMIE', 'LERMA', 'LERUM'],\n",
       " ['ANAMARIA',\n",
       "  'ANYMORE',\n",
       "  'ENAMOR',\n",
       "  'HANMER',\n",
       "  'INAMURA',\n",
       "  'NAMARA',\n",
       "  'NAMER',\n",
       "  'NEIMEYER',\n",
       "  'NEMER',\n",
       "  'NEMIR',\n",
       "  'NEUMAIER',\n",
       "  'NEUMAYER',\n",
       "  'NEUMEIER',\n",
       "  'NEUMEYER',\n",
       "  'NEWMEYER',\n",
       "  'NEWMYER',\n",
       "  'NIEMEIER',\n",
       "  'NIEMEYER',\n",
       "  'NIMMER',\n",
       "  'NOMURA',\n",
       "  'NUMEIRI',\n",
       "  'WEINHEIMER'],\n",
       " ['AHMANN',\n",
       "  'AIMAN',\n",
       "  'AIMONE',\n",
       "  'AMAN',\n",
       "  'AMANA',\n",
       "  'AMANN',\n",
       "  'AMANO',\n",
       "  'AMEEN',\n",
       "  'AMEN',\n",
       "  'AMEN',\n",
       "  'AMIN',\n",
       "  'AMINO',\n",
       "  'AMMAN',\n",
       "  'AMMAN',\n",
       "  'AMMANN',\n",
       "  'AMMEEN',\n",
       "  'AMMON',\n",
       "  'AMMONIA',\n",
       "  'AMNIO',\n",
       "  'AMON',\n",
       "  'AUMAN',\n",
       "  'AUMANN',\n",
       "  'EAMON',\n",
       "  'EHMAN',\n",
       "  'EHMANN',\n",
       "  'EHMEN',\n",
       "  'EMINA',\n",
       "  'EYMAN',\n",
       "  'HAMAN',\n",
       "  'HAMANN',\n",
       "  'HAMMAN',\n",
       "  'HAMMANN',\n",
       "  'HAMMEN',\n",
       "  'HAMMON',\n",
       "  'HAMON',\n",
       "  'HAYMAN',\n",
       "  'HAYMON',\n",
       "  'HEHMAN',\n",
       "  'HEIMAN',\n",
       "  'HEIMANN',\n",
       "  'HEMAN',\n",
       "  'HEMANI',\n",
       "  'HEMANN',\n",
       "  'HEMENWAY',\n",
       "  'HEMMEN',\n",
       "  'HEUMAN',\n",
       "  'HEUMANN',\n",
       "  'HEYMAN',\n",
       "  'HEYMANN',\n",
       "  'HIGHMAN',\n",
       "  'HOHMAN',\n",
       "  'HOHMANN',\n",
       "  'HOMAN',\n",
       "  'HOMANN',\n",
       "  'HOMEN',\n",
       "  'HOMINY',\n",
       "  'HOW-MANY',\n",
       "  'HUMAN',\n",
       "  'HUMAN',\n",
       "  'HUMANA',\n",
       "  'HUMANE',\n",
       "  'HUMANN',\n",
       "  'HYMAN',\n",
       "  'HYMEN',\n",
       "  'IMAN',\n",
       "  'IMMUNE',\n",
       "  'IMMUNO',\n",
       "  'KHOMEINI',\n",
       "  'M1',\n",
       "  'MAHAN',\n",
       "  'MAHANEY',\n",
       "  'MAHANNAH',\n",
       "  'MAHANY',\n",
       "  'MAHAYANA',\n",
       "  'MAHEN',\n",
       "  'MAHEN',\n",
       "  'MAHIN',\n",
       "  'MAHN',\n",
       "  'MAHON',\n",
       "  'MAHONE',\n",
       "  'MAHONEY',\n",
       "  'MAHONY',\n",
       "  'MAIN',\n",
       "  'MAINA',\n",
       "  'MAINE',\n",
       "  'MAINO',\n",
       "  'MAIONE',\n",
       "  'MAN',\n",
       "  'MANA',\n",
       "  'MANE',\n",
       "  'MANET',\n",
       "  'MANET',\n",
       "  'MANEY',\n",
       "  'MANI',\n",
       "  'MANIA',\n",
       "  'MANN',\n",
       "  'MANNA',\n",
       "  'MANNE',\n",
       "  'MANNEY',\n",
       "  'MANNI',\n",
       "  'MANNIE',\n",
       "  'MANNO',\n",
       "  'MANNY',\n",
       "  'MANO',\n",
       "  'MANU',\n",
       "  'MANY',\n",
       "  'MAUNA',\n",
       "  'MAUNE',\n",
       "  'MAUNEY',\n",
       "  'MAWHINNEY',\n",
       "  'MAYAN',\n",
       "  'MAYHAN',\n",
       "  'MAYNE',\n",
       "  'MAYON',\n",
       "  'MEAN',\n",
       "  'MEANEY',\n",
       "  'MEANY',\n",
       "  'MEEHAN',\n",
       "  'MEHAN',\n",
       "  'MEIGHAN',\n",
       "  'MEIN',\n",
       "  'MEINE',\n",
       "  'MEN',\n",
       "  'MENA',\n",
       "  'MENIA',\n",
       "  'MENN',\n",
       "  'MENNA',\n",
       "  'MENNE',\n",
       "  'MENO',\n",
       "  'MENOYO',\n",
       "  'MENU',\n",
       "  'MEYN',\n",
       "  'MHOON',\n",
       "  'MIANO',\n",
       "  'MIEN',\n",
       "  'MIENO',\n",
       "  'MIHN',\n",
       "  'MIN',\n",
       "  'MINA',\n",
       "  'MINA',\n",
       "  'MINE',\n",
       "  'MINEA',\n",
       "  'MINEAU',\n",
       "  'MINEO',\n",
       "  'MINH',\n",
       "  'MINI',\n",
       "  'MINNA',\n",
       "  'MINNEY',\n",
       "  'MINNIE',\n",
       "  'MINNOW',\n",
       "  'MINNY',\n",
       "  'MINO',\n",
       "  'MINOW',\n",
       "  'MION',\n",
       "  'MIONE',\n",
       "  'MOAN',\n",
       "  'MOEN',\n",
       "  'MOHAN',\n",
       "  'MOHN',\n",
       "  'MOHNEY',\n",
       "  'MOHON',\n",
       "  'MOINA',\n",
       "  'MOINES',\n",
       "  'MON',\n",
       "  'MON',\n",
       "  'MONA',\n",
       "  'MONE',\n",
       "  'MONET',\n",
       "  'MONEY',\n",
       "  'MONN',\n",
       "  'MONO',\n",
       "  'MONY',\n",
       "  'MOON',\n",
       "  'MOONE',\n",
       "  'MOONEY',\n",
       "  'MOONIE',\n",
       "  'MOWEN',\n",
       "  'MOYNA',\n",
       "  'MUN',\n",
       "  'MUNI',\n",
       "  'MUNN',\n",
       "  'MUNNI',\n",
       "  'MUNNI',\n",
       "  'MYNA',\n",
       "  \"O'MAHONEY\",\n",
       "  \"O'MAHONY\",\n",
       "  'OEHMEN',\n",
       "  'OHMAN',\n",
       "  'OHMANN',\n",
       "  'OMAHONEY',\n",
       "  'OMAHONY',\n",
       "  'OMAN',\n",
       "  'OMANI',\n",
       "  'OMEN',\n",
       "  'OMMEN',\n",
       "  'OMMEN',\n",
       "  'OMNI',\n",
       "  'OMONIA',\n",
       "  'OMONIA',\n",
       "  'ONE-MAN',\n",
       "  'UMANA',\n",
       "  'WAYMAN',\n",
       "  'WEHMAN',\n",
       "  'WEIMAN',\n",
       "  'WEIMANN',\n",
       "  'WEYMAN',\n",
       "  'WIEMAN',\n",
       "  'WIEMANN',\n",
       "  'WIMAN',\n",
       "  'WOMAN',\n",
       "  'WOMEN',\n",
       "  'WYMAN',\n",
       "  'YAMANE',\n",
       "  'YAMANE',\n",
       "  'YAMANI',\n",
       "  'YAMIN',\n",
       "  'YEAMAN',\n",
       "  'YEMEN',\n",
       "  'YEMENI',\n",
       "  'YEMENI',\n",
       "  'YEOMAN',\n",
       "  'YOUMAN']]"
      ]
     },
     "execution_count": 7,
     "metadata": {},
     "output_type": "execute_result"
    }
   ],
   "source": [
    "translate(54323432)"
   ]
  },
  {
   "cell_type": "code",
   "execution_count": 7,
   "metadata": {
    "collapsed": false
   },
   "outputs": [
    {
     "data": {
      "text/plain": [
       "['ALARM', 'ANAMARIA', 'AHMANN']"
      ]
     },
     "execution_count": 7,
     "metadata": {},
     "output_type": "execute_result"
    }
   ],
   "source": [
    "[x[0] for x in translate(54323432)]"
   ]
  },
  {
   "cell_type": "markdown",
   "metadata": {},
   "source": [
    "# Next steps\n"
   ]
  },
  {
   "cell_type": "markdown",
   "metadata": {},
   "source": [
    "1. Find good metric for results. Should be easy to remember and visualize.\n",
    " - maybe use part of speech\n",
    " - manually select your favorite matches\n",
    " - best is probably to assess how common the word is (how? using other nltk corpus?)\n",
    " \n",
    " \n",
    "If I only allow for 3-digit matches, then that 10^3 combinations to think about. So, there are around 1000 cases to handle. For each of these, it might be good to have several words to choose from so things are more interesting. Some manual work is conceivable."
   ]
  },
  {
   "cell_type": "code",
   "execution_count": 8,
   "metadata": {
    "collapsed": false
   },
   "outputs": [
    {
     "data": {
      "text/plain": [
       "[u'n', u'n', u'n', u'n', u'n']"
      ]
     },
     "execution_count": 8,
     "metadata": {},
     "output_type": "execute_result"
    }
   ],
   "source": [
    "# Try to get parts of speech\n",
    "from nltk.corpus import wordnet as wn\n",
    "wn.synsets('HEAD')[:5]\n",
    "[x.pos() for x in wn.synsets('HEAD')[:5]]"
   ]
  },
  {
   "cell_type": "markdown",
   "metadata": {},
   "source": [
    "## Word frequencies\n",
    "This could help pick the best match from a set of options. \n",
    " - http://subtlexus.lexique.org/\n",
    " - http://www.natcorp.ox.ac.uk/"
   ]
  },
  {
   "cell_type": "code",
   "execution_count": 8,
   "metadata": {
    "collapsed": true
   },
   "outputs": [],
   "source": [
    "from nltk.corpus import brown\n",
    "import pandas as pd"
   ]
  },
  {
   "cell_type": "code",
   "execution_count": 16,
   "metadata": {
    "collapsed": false
   },
   "outputs": [
    {
     "data": {
      "text/plain": [
       "1161192"
      ]
     },
     "execution_count": 16,
     "metadata": {},
     "output_type": "execute_result"
    }
   ],
   "source": [
    "x = brown.words()\n",
    "len(x)"
   ]
  },
  {
   "cell_type": "code",
   "execution_count": 36,
   "metadata": {
    "collapsed": true
   },
   "outputs": [],
   "source": [
    "n_words = float(len(x))"
   ]
  },
  {
   "cell_type": "code",
   "execution_count": 37,
   "metadata": {
    "collapsed": false
   },
   "outputs": [],
   "source": [
    "word_counts = { word.lower():count/n_words for word, count in tz.frequencies(x).iteritems()}"
   ]
  },
  {
   "cell_type": "markdown",
   "metadata": {
    "collapsed": true
   },
   "source": [
    "# Assign scores to potential matches"
   ]
  },
  {
   "cell_type": "code",
   "execution_count": 34,
   "metadata": {
    "collapsed": false
   },
   "outputs": [],
   "source": [
    "result = translate(12341)\n",
    "# result"
   ]
  },
  {
   "cell_type": "code",
   "execution_count": 32,
   "metadata": {
    "collapsed": false
   },
   "outputs": [
    {
     "data": {
      "text/plain": [
       "[{'a': 2}, {'a': 10}]"
      ]
     },
     "execution_count": 32,
     "metadata": {},
     "output_type": "execute_result"
    }
   ],
   "source": [
    "sorted([{'a': 10}, {'a': 2}], key = lambda x: x['a'])"
   ]
  },
  {
   "cell_type": "code",
   "execution_count": 48,
   "metadata": {
    "collapsed": true
   },
   "outputs": [],
   "source": [
    "prepositions = [\"with\" ,\"at\" ,\"from\" ,\"into\" ,\"during\" ,\"including\" ,\"until\" ,\"against\" ,\"among\" ,\"throughout\" ,\"despite\" ,\"towards\" ,\"upon\" ,\"concerning\" ,\"of\" ,\"to\" ,\"in\" ,\"for\" ,\"on\" ,\"by\" ,\"about\" ,\"like\" ,\"through\" ,\"over\" ,\"before\" ,\"between\" ,\"after\" ,\"since\" ,\"without\" ,\"under\" ,\"within\" ,\"along\" ,\"following\" ,\"across\" ,\"behind\" ,\"beyond\" ,\"plus\" ,\"except\" ,\"but\" ,\"up\" ,\"out\" ,\"around\" ,\"down\" ,\"off\" ,\"above\" ,\"near\"]\n",
    "def score_word(match):\n",
    "    \"\"\" String -> Float\n",
    "        \n",
    "        Return word frequency in corpus as score. \n",
    "    \"\"\"\n",
    "    word = word.lower()\n",
    "    \n",
    "    # prepositions aren't memorable\n",
    "    if word in prepositions:\n",
    "        return 0\n",
    "    \n",
    "    if word in word_counts.keys():\n",
    "        return word_counts[word]\n",
    "    else: \n",
    "        return 0\n",
    "\n",
    "def get_best_match(matches):\n",
    "    scored_matches = [{\"word\": match, \"score\": score_match(match)} for match in matches]\n",
    "    return sorted(scored_matches, key = lambda match: match['score'])[-1]"
   ]
  },
  {
   "cell_type": "code",
   "execution_count": 49,
   "metadata": {
    "collapsed": false
   },
   "outputs": [
    {
     "data": {
      "text/plain": [
       "['AUTONOMY',\n",
       " 'AUTONOMY',\n",
       " 'DENHAM',\n",
       " 'DENIM',\n",
       " 'DENOMME',\n",
       " 'DONHAM',\n",
       " 'DOWNHAM',\n",
       " 'DOWNUM',\n",
       " 'DUNHAM',\n",
       " 'DUNNAM',\n",
       " 'DYNAMO',\n",
       " 'IDEONOMY']"
      ]
     },
     "execution_count": 49,
     "metadata": {},
     "output_type": "execute_result"
    }
   ],
   "source": [
    "test = result[0]\n",
    "test"
   ]
  },
  {
   "cell_type": "code",
   "execution_count": 53,
   "metadata": {
    "collapsed": false
   },
   "outputs": [
    {
     "data": {
      "text/plain": [
       "[{'score': 0.022159987323371155, 'word': 'TO'}]"
      ]
     },
     "execution_count": 53,
     "metadata": {},
     "output_type": "execute_result"
    }
   ],
   "source": [
    "map(get_best_match, translate(1))"
   ]
  },
  {
   "cell_type": "code",
   "execution_count": null,
   "metadata": {
    "collapsed": true
   },
   "outputs": [],
   "source": []
  }
 ],
 "metadata": {
  "kernelspec": {
   "display_name": "Python [Root]",
   "language": "python",
   "name": "Python [Root]"
  },
  "language_info": {
   "codemirror_mode": {
    "name": "ipython",
    "version": 2
   },
   "file_extension": ".py",
   "mimetype": "text/x-python",
   "name": "python",
   "nbconvert_exporter": "python",
   "pygments_lexer": "ipython2",
   "version": "2.7.12"
  }
 },
 "nbformat": 4,
 "nbformat_minor": 0
}
